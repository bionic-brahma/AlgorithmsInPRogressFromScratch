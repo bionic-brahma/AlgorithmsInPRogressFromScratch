{
  "nbformat": 4,
  "nbformat_minor": 0,
  "metadata": {
    "colab": {
      "name": "LinearRegressionFromScratch.ipynb",
      "provenance": [],
      "collapsed_sections": [],
      "include_colab_link": true
    },
    "kernelspec": {
      "name": "python3",
      "display_name": "Python 3"
    }
  },
  "cells": [
    {
      "cell_type": "markdown",
      "metadata": {
        "id": "view-in-github",
        "colab_type": "text"
      },
      "source": [
        "<a href=\"https://colab.research.google.com/github/bionic-brahma/AlgorithmsInPRogressFromScratch/blob/master/LinearRegressionFromScratch.ipynb\" target=\"_parent\"><img src=\"https://colab.research.google.com/assets/colab-badge.svg\" alt=\"Open In Colab\"/></a>"
      ]
    },
    {
      "cell_type": "code",
      "metadata": {
        "id": "WYkpriMOZ7Cr"
      },
      "source": [
        "import numpy as np"
      ],
      "execution_count": 332,
      "outputs": []
    },
    {
      "cell_type": "code",
      "metadata": {
        "id": "SPr81wckaAk_"
      },
      "source": [
        "x= np.array([[1,2],[4,18],[3,9],[10,90],[7,15],[8,18],[13,30],[1,3],[4,16],[1,3],[4,18.5],[5,10],[6,13],[1.8,6],[10,99],[9,79],[8.6,65],[13,150],[1,6],[4,11]])"
      ],
      "execution_count": 333,
      "outputs": []
    },
    {
      "cell_type": "code",
      "metadata": {
        "colab": {
          "base_uri": "https://localhost:8080/"
        },
        "id": "L8hscECyae6E",
        "outputId": "468b8b38-07c9-4d10-b498-696dc19281be"
      },
      "source": [
        "x"
      ],
      "execution_count": 334,
      "outputs": [
        {
          "output_type": "execute_result",
          "data": {
            "text/plain": [
              "array([[  1. ,   2. ],\n",
              "       [  4. ,  18. ],\n",
              "       [  3. ,   9. ],\n",
              "       [ 10. ,  90. ],\n",
              "       [  7. ,  15. ],\n",
              "       [  8. ,  18. ],\n",
              "       [ 13. ,  30. ],\n",
              "       [  1. ,   3. ],\n",
              "       [  4. ,  16. ],\n",
              "       [  1. ,   3. ],\n",
              "       [  4. ,  18.5],\n",
              "       [  5. ,  10. ],\n",
              "       [  6. ,  13. ],\n",
              "       [  1.8,   6. ],\n",
              "       [ 10. ,  99. ],\n",
              "       [  9. ,  79. ],\n",
              "       [  8.6,  65. ],\n",
              "       [ 13. , 150. ],\n",
              "       [  1. ,   6. ],\n",
              "       [  4. ,  11. ]])"
            ]
          },
          "metadata": {
            "tags": []
          },
          "execution_count": 334
        }
      ]
    },
    {
      "cell_type": "code",
      "metadata": {
        "colab": {
          "base_uri": "https://localhost:8080/"
        },
        "id": "YhdCJrmGaf2r",
        "outputId": "0cf0926c-6f4f-49b1-e722-36e90c4a2bd9"
      },
      "source": [
        "input= np.array([[x]  for x in np.array(x[:,0])])\r\n",
        "print(np.array(input))\r\n",
        "output= np.array([[x]  for x in np.array(x[:,1])])\r\n"
      ],
      "execution_count": 335,
      "outputs": [
        {
          "output_type": "stream",
          "text": [
            "[[ 1. ]\n",
            " [ 4. ]\n",
            " [ 3. ]\n",
            " [10. ]\n",
            " [ 7. ]\n",
            " [ 8. ]\n",
            " [13. ]\n",
            " [ 1. ]\n",
            " [ 4. ]\n",
            " [ 1. ]\n",
            " [ 4. ]\n",
            " [ 5. ]\n",
            " [ 6. ]\n",
            " [ 1.8]\n",
            " [10. ]\n",
            " [ 9. ]\n",
            " [ 8.6]\n",
            " [13. ]\n",
            " [ 1. ]\n",
            " [ 4. ]]\n"
          ],
          "name": "stdout"
        }
      ]
    },
    {
      "cell_type": "code",
      "metadata": {
        "id": "eyH2evzeas3S"
      },
      "source": [
        "import matplotlib.pyplot as plt\r\n",
        "%matplotlib inline"
      ],
      "execution_count": 336,
      "outputs": []
    },
    {
      "cell_type": "code",
      "metadata": {
        "colab": {
          "base_uri": "https://localhost:8080/",
          "height": 282
        },
        "id": "Er81CcI9at5k",
        "outputId": "adeff522-e1cc-4e73-c9f6-62f7471804c9"
      },
      "source": [
        "plt.scatter(input,output)"
      ],
      "execution_count": 337,
      "outputs": [
        {
          "output_type": "execute_result",
          "data": {
            "text/plain": [
              "<matplotlib.collections.PathCollection at 0x7ff13d044358>"
            ]
          },
          "metadata": {
            "tags": []
          },
          "execution_count": 337
        },
        {
          "output_type": "display_data",
          "data": {
            "image/png": "[encoded data removed]",
            "text/plain": [
              "<Figure size 432x288 with 1 Axes>"
            ]
          },
          "metadata": {
            "tags": [],
            "needs_background": "light"
          }
        }
      ]
    },
    {
      "cell_type": "code",
      "metadata": {
        "id": "w7hy9QOPbcLm"
      },
      "source": [
        "class regression:\r\n",
        "  def __init__(self, iteration=10, learning_rate=0.01, degree=1):\r\n",
        "    self.iterat=iteration\r\n",
        "    self.lr=learning_rate\r\n",
        "    self.degree=degree\r\n",
        "    self.weights=None\r\n",
        "    self.bias=None\r\n",
        "\r\n",
        "  '''def factorial(self,n):\r\n",
        "    if n<=1:\r\n",
        "      return 1\r\n",
        "    else:\r\n",
        "      return n*self.factorial(n-1)\r\n",
        "\r\n",
        "  def combination(self,n,r):\r\n",
        "    return self.factorial(n)/(self.factorial(r)*self.factorial(n-r) )   \r\n",
        "  '''\r\n",
        "  def fit(self, input_X, output_Y):\r\n",
        "    nrecords, nfeatures = input_X.shape\r\n",
        "    #num_non_linear_features= self.combination(self.degree+nfeatures-1,nfeatures-1)  #m-1+nCm-1\r\n",
        "    print(\"records= \", nrecords, \"  features= \", nfeatures)\r\n",
        "    self.weights= np.zeros(nfeatures)\r\n",
        "    \r\n",
        "    self.bias=0.0\r\n",
        "    fig= plt.figure()\r\n",
        "    f= fig.add_subplot(111)\r\n",
        "    f.scatter(input,output)\r\n",
        "    \r\n",
        "    for it in range(self.iterat):\r\n",
        "      model= np.dot(input_X, self.weights) + self.bias\r\n",
        "      loss= (1/nrecords)* np.sum((model- output_Y)**2)\r\n",
        "      self.weights= self.weights-(1/nrecords)*self.lr*2*np.dot(np.transpose(input_X),(model-output_Y))\r\n",
        "      self.bias-= (1/nrecords)*self.lr*2*np.sum(model-output_Y) \r\n",
        "      print(\"-------> iteration number: \",it,\"  Loss: \",loss)\r\n",
        "      print(\"-------> weights: \",self.weights)\r\n",
        "      \r\n",
        "      y=self.predict(input)\r\n",
        "      \r\n",
        "      if it%40==0 or it== self.iterat-1:\r\n",
        "        f.plot(input,y,color=\"red\", alpha=self.iterat/(it+1))\r\n",
        "      \r\n",
        "\r\n",
        "  def predict(self, input_X):\r\n",
        "    return (np.dot(input_X ,self.weights) + self.bias)[:,0]\r\n",
        "\r\n"
      ],
      "execution_count": 363,
      "outputs": []
    },
    {
      "cell_type": "code",
      "metadata": {
        "id": "KoRj_EFTfNRf"
      },
      "source": [
        "model= regression(iteration=200)"
      ],
      "execution_count": 364,
      "outputs": []
    },
    {
      "cell_type": "code",
      "metadata": {
        "colab": {
          "base_uri": "https://localhost:8080/",
          "height": 1000
        },
        "id": "WwQhQC-7gzyH",
        "outputId": "16578537-48a8-4c94-e8ff-6822e33fc604"
      },
      "source": [
        "model.fit(np.array(input),np.array(output))"
      ],
      "execution_count": 365,
      "outputs": [
        {
          "output_type": "stream",
          "text": [
            "records=  20   features=  1\n",
            "-------> iteration number:  0   Loss:  53803.25\n",
            "-------> iteration number:  1   Loss:  18270.699710848003\n",
            "-------> iteration number:  2   Loss:  15389.956691630994\n",
            "-------> iteration number:  3   Loss:  14717.575768644974\n",
            "-------> iteration number:  4   Loss:  14274.136866341418\n",
            "-------> iteration number:  5   Loss:  13916.714581206104\n",
            "-------> iteration number:  6   Loss:  13623.40918522816\n",
            "-------> iteration number:  7   Loss:  13382.37651101214\n",
            "-------> iteration number:  8   Loss:  13184.278456022928\n",
            "-------> iteration number:  9   Loss:  13021.465748463968\n",
            "-------> iteration number:  10   Loss:  12887.65324891873\n",
            "-------> iteration number:  11   Loss:  12777.675432913295\n",
            "-------> iteration number:  12   Loss:  12687.2868660359\n",
            "-------> iteration number:  13   Loss:  12612.998311110985\n",
            "-------> iteration number:  14   Loss:  12551.94203393315\n",
            "-------> iteration number:  15   Loss:  12501.761101128726\n",
            "-------> iteration number:  16   Loss:  12460.518396307598\n",
            "-------> iteration number:  17   Loss:  12426.62184226003\n",
            "-------> iteration number:  18   Loss:  12398.762942576246\n",
            "-------> iteration number:  19   Loss:  12375.866270233033\n",
            "-------> iteration number:  20   Loss:  12357.047953273528\n",
            "-------> iteration number:  21   Loss:  12341.581555017918\n",
            "-------> iteration number:  22   Loss:  12328.870031691155\n",
            "-------> iteration number:  23   Loss:  12318.42268495817\n",
            "-------> iteration number:  24   Loss:  12309.836219673598\n",
            "-------> iteration number:  25   Loss:  12302.779175625248\n",
            "-------> iteration number:  26   Loss:  12296.979132295433\n",
            "-------> iteration number:  27   Loss:  12292.212192710365\n",
            "-------> iteration number:  28   Loss:  12288.294340426237\n",
            "-------> iteration number:  29   Loss:  12285.074336009093\n",
            "-------> iteration number:  30   Loss:  12282.427878793627\n",
            "-------> iteration number:  31   Loss:  12280.252808549623\n",
            "-------> iteration number:  32   Loss:  12278.465161827542\n",
            "-------> iteration number:  33   Loss:  12276.995930747873\n",
            "-------> iteration number:  34   Loss:  12275.788399114908\n",
            "-------> iteration number:  35   Loss:  12274.795953022001\n",
            "-------> iteration number:  36   Loss:  12273.980281431748\n",
            "-------> iteration number:  37   Loss:  12273.309897268931\n",
            "-------> iteration number:  38   Loss:  12272.758921936293\n",
            "-------> iteration number:  39   Loss:  12272.306086332448\n",
            "-------> iteration number:  40   Loss:  12271.933909808466\n",
            "-------> iteration number:  41   Loss:  12271.62802536865\n",
            "-------> iteration number:  42   Loss:  12271.376625066667\n",
            "-------> iteration number:  43   Loss:  12271.17000418764\n",
            "-------> iteration number:  44   Loss:  12271.000186620542\n",
            "-------> iteration number:  45   Loss:  12270.860616959282\n",
            "-------> iteration number:  46   Loss:  12270.74590744673\n",
            "-------> iteration number:  47   Loss:  12270.651629993086\n",
            "-------> iteration number:  48   Loss:  12270.574145239918\n",
            "-------> iteration number:  49   Loss:  12270.510462071343\n",
            "-------> iteration number:  50   Loss:  12270.458122149052\n",
            "-------> iteration number:  51   Loss:  12270.415105013963\n",
            "-------> iteration number:  52   Loss:  12270.379750091175\n",
            "-------> iteration number:  53   Loss:  12270.350692587393\n",
            "-------> iteration number:  54   Loss:  12270.32681080632\n",
            "-------> iteration number:  55   Loss:  12270.307182848206\n",
            "-------> iteration number:  56   Loss:  12270.291051022077\n",
            "-------> iteration number:  57   Loss:  12270.277792596899\n",
            "-------> iteration number:  58   Loss:  12270.26689576247\n",
            "-------> iteration number:  59   Loss:  12270.257939872241\n",
            "-------> iteration number:  60   Loss:  12270.250579205222\n",
            "-------> iteration number:  61   Loss:  12270.24452962025\n",
            "-------> iteration number:  62   Loss:  12270.239557587372\n",
            "-------> iteration number:  63   Loss:  12270.235471173015\n",
            "-------> iteration number:  64   Loss:  12270.232112630809\n",
            "-------> iteration number:  65   Loss:  12270.229352312155\n",
            "-------> iteration number:  66   Loss:  12270.227083661468\n",
            "-------> iteration number:  67   Loss:  12270.225219102853\n",
            "-------> iteration number:  68   Loss:  12270.223686659427\n",
            "-------> iteration number:  69   Loss:  12270.222427174831\n",
            "-------> iteration number:  70   Loss:  12270.221392029644\n",
            "-------> iteration number:  71   Loss:  12270.220541264513\n",
            "-------> iteration number:  72   Loss:  12270.219842037675\n",
            "-------> iteration number:  73   Loss:  12270.219267357124\n",
            "-------> iteration number:  74   Loss:  12270.218795038676\n",
            "-------> iteration number:  75   Loss:  12270.218406849592\n",
            "-------> iteration number:  76   Loss:  12270.218087804751\n",
            "-------> iteration number:  77   Loss:  12270.217825588174\n",
            "-------> iteration number:  78   Loss:  12270.21761007762\n",
            "-------> iteration number:  79   Loss:  12270.217432953807\n",
            "-------> iteration number:  80   Loss:  12270.217287379286\n",
            "-------> iteration number:  81   Loss:  12270.217167734498\n",
            "-------> iteration number:  82   Loss:  12270.217069400842\n",
            "-------> iteration number:  83   Loss:  12270.21698858238\n",
            "-------> iteration number:  84   Loss:  12270.2169221593\n",
            "-------> iteration number:  85   Loss:  12270.216867567497\n",
            "-------> iteration number:  86   Loss:  12270.21682269959\n",
            "-------> iteration number:  87   Loss:  12270.216785823552\n",
            "-------> iteration number:  88   Loss:  12270.216755515876\n",
            "-------> iteration number:  89   Loss:  12270.2167306066\n",
            "-------> iteration number:  90   Loss:  12270.21671013417\n",
            "-------> iteration number:  91   Loss:  12270.216693308283\n",
            "-------> iteration number:  92   Loss:  12270.21667947943\n",
            "-------> iteration number:  93   Loss:  12270.216668113771\n",
            "-------> iteration number:  94   Loss:  12270.216658772555\n",
            "-------> iteration number:  95   Loss:  12270.216651095203\n",
            "-------> iteration number:  96   Loss:  12270.216644785341\n",
            "-------> iteration number:  97   Loss:  12270.216639599392\n",
            "-------> iteration number:  98   Loss:  12270.216635337163\n",
            "-------> iteration number:  99   Loss:  12270.216631834119\n",
            "-------> iteration number:  100   Loss:  12270.216628955044\n",
            "-------> iteration number:  101   Loss:  12270.216626588786\n",
            "-------> iteration number:  102   Loss:  12270.216624644007\n",
            "-------> iteration number:  103   Loss:  12270.216623045631\n",
            "-------> iteration number:  104   Loss:  12270.21662173196\n",
            "-------> iteration number:  105   Loss:  12270.21662065228\n",
            "-------> iteration number:  106   Loss:  12270.216619764906\n",
            "-------> iteration number:  107   Loss:  12270.216619035597\n",
            "-------> iteration number:  108   Loss:  12270.216618436194\n",
            "-------> iteration number:  109   Loss:  12270.216617943552\n",
            "-------> iteration number:  110   Loss:  12270.216617538661\n",
            "-------> iteration number:  111   Loss:  12270.216617205893\n",
            "-------> iteration number:  112   Loss:  12270.216616932394\n",
            "-------> iteration number:  113   Loss:  12270.216616707612\n",
            "-------> iteration number:  114   Loss:  12270.216616522865\n",
            "-------> iteration number:  115   Loss:  12270.216616371026\n",
            "-------> iteration number:  116   Loss:  12270.216616246233\n",
            "-------> iteration number:  117   Loss:  12270.216616143669\n",
            "-------> iteration number:  118   Loss:  12270.216616059377\n",
            "-------> iteration number:  119   Loss:  12270.216615990093\n",
            "-------> iteration number:  120   Loss:  12270.216615933152\n",
            "-------> iteration number:  121   Loss:  12270.216615886355\n",
            "-------> iteration number:  122   Loss:  12270.216615847892\n",
            "-------> iteration number:  123   Loss:  12270.21661581628\n",
            "-------> iteration number:  124   Loss:  12270.2166157903\n",
            "-------> iteration number:  125   Loss:  12270.216615768948\n",
            "-------> iteration number:  126   Loss:  12270.216615751398\n",
            "-------> iteration number:  127   Loss:  12270.216615736976\n",
            "-------> iteration number:  128   Loss:  12270.21661572512\n",
            "-------> iteration number:  129   Loss:  12270.216615715377\n",
            "-------> iteration number:  130   Loss:  12270.216615707366\n",
            "-------> iteration number:  131   Loss:  12270.216615700789\n",
            "-------> iteration number:  132   Loss:  12270.216615695379\n",
            "-------> iteration number:  133   Loss:  12270.21661569093\n",
            "-------> iteration number:  134   Loss:  12270.216615687279\n",
            "-------> iteration number:  135   Loss:  12270.216615684274\n",
            "-------> iteration number:  136   Loss:  12270.216615681806\n",
            "-------> iteration number:  137   Loss:  12270.216615679776\n",
            "-------> iteration number:  138   Loss:  12270.216615678111\n",
            "-------> iteration number:  139   Loss:  12270.216615676742\n",
            "-------> iteration number:  140   Loss:  12270.216615675616\n",
            "-------> iteration number:  141   Loss:  12270.216615674688\n",
            "-------> iteration number:  142   Loss:  12270.21661567393\n",
            "-------> iteration number:  143   Loss:  12270.216615673304\n",
            "-------> iteration number:  144   Loss:  12270.21661567279\n",
            "-------> iteration number:  145   Loss:  12270.21661567237\n",
            "-------> iteration number:  146   Loss:  12270.21661567202\n",
            "-------> iteration number:  147   Loss:  12270.216615671732\n",
            "-------> iteration number:  148   Loss:  12270.216615671501\n",
            "-------> iteration number:  149   Loss:  12270.21661567131\n",
            "-------> iteration number:  150   Loss:  12270.21661567115\n",
            "-------> iteration number:  151   Loss:  12270.216615671023\n",
            "-------> iteration number:  152   Loss:  12270.216615670914\n",
            "-------> iteration number:  153   Loss:  12270.216615670824\n",
            "-------> iteration number:  154   Loss:  12270.216615670754\n",
            "-------> iteration number:  155   Loss:  12270.216615670693\n",
            "-------> iteration number:  156   Loss:  12270.216615670644\n",
            "-------> iteration number:  157   Loss:  12270.216615670606\n",
            "-------> iteration number:  158   Loss:  12270.216615670573\n",
            "-------> iteration number:  159   Loss:  12270.21661567055\n",
            "-------> iteration number:  160   Loss:  12270.21661567052\n",
            "-------> iteration number:  161   Loss:  12270.216615670503\n",
            "-------> iteration number:  162   Loss:  12270.216615670486\n",
            "-------> iteration number:  163   Loss:  12270.216615670477\n",
            "-------> iteration number:  164   Loss:  12270.216615670464\n",
            "-------> iteration number:  165   Loss:  12270.21661567046\n",
            "-------> iteration number:  166   Loss:  12270.216615670452\n",
            "-------> iteration number:  167   Loss:  12270.216615670448\n",
            "-------> iteration number:  168   Loss:  12270.21661567044\n",
            "-------> iteration number:  169   Loss:  12270.216615670439\n",
            "-------> iteration number:  170   Loss:  12270.216615670433\n",
            "-------> iteration number:  171   Loss:  12270.21661567043\n",
            "-------> iteration number:  172   Loss:  12270.216615670428\n",
            "-------> iteration number:  173   Loss:  12270.216615670426\n",
            "-------> iteration number:  174   Loss:  12270.216615670426\n",
            "-------> iteration number:  175   Loss:  12270.216615670428\n",
            "-------> iteration number:  176   Loss:  12270.216615670424\n",
            "-------> iteration number:  177   Loss:  12270.21661567042\n",
            "-------> iteration number:  178   Loss:  12270.216615670419\n",
            "-------> iteration number:  179   Loss:  12270.216615670422\n",
            "-------> iteration number:  180   Loss:  12270.21661567042\n",
            "-------> iteration number:  181   Loss:  12270.216615670422\n",
            "-------> iteration number:  182   Loss:  12270.216615670419\n",
            "-------> iteration number:  183   Loss:  12270.216615670419\n",
            "-------> iteration number:  184   Loss:  12270.216615670419\n",
            "-------> iteration number:  185   Loss:  12270.216615670419\n",
            "-------> iteration number:  186   Loss:  12270.216615670419\n",
            "-------> iteration number:  187   Loss:  12270.216615670419\n",
            "-------> iteration number:  188   Loss:  12270.216615670424\n",
            "-------> iteration number:  189   Loss:  12270.21661567042\n",
            "-------> iteration number:  190   Loss:  12270.216615670419\n",
            "-------> iteration number:  191   Loss:  12270.216615670417\n",
            "-------> iteration number:  192   Loss:  12270.216615670419\n",
            "-------> iteration number:  193   Loss:  12270.21661567042\n",
            "-------> iteration number:  194   Loss:  12270.216615670419\n",
            "-------> iteration number:  195   Loss:  12270.216615670419\n",
            "-------> iteration number:  196   Loss:  12270.21661567042\n",
            "-------> iteration number:  197   Loss:  12270.216615670419\n",
            "-------> iteration number:  198   Loss:  12270.216615670422\n",
            "-------> iteration number:  199   Loss:  12270.216615670419\n"
          ],
          "name": "stdout"
        },
        {
          "output_type": "display_data",
          "data": {
            "image/png": "[encoded data removed]",
            "text/plain": [
              "<Figure size 432x288 with 1 Axes>"
            ]
          },
          "metadata": {
            "tags": [],
            "needs_background": "light"
          }
        }
      ]
    },
    {
      "cell_type": "code",
      "metadata": {
        "id": "g_alpOoAhCum"
      },
      "source": [
        "y=model.predict(input)"
      ],
      "execution_count": 345,
      "outputs": []
    },
    {
      "cell_type": "code",
      "metadata": {
        "colab": {
          "base_uri": "https://localhost:8080/",
          "height": 300
        },
        "id": "XxYJ0S-THm9J",
        "outputId": "4c58fe6e-3d4d-4230-8af1-259a17fd0416"
      },
      "source": [
        "plt.scatter(input,output)\r\n",
        "print(y.shape, input.shape) \r\n",
        "plt.scatter(input,y,color=\"red\")\r\n",
        "plt.plot(input,y,color=\"green\")"
      ],
      "execution_count": 346,
      "outputs": [
        {
          "output_type": "stream",
          "text": [
            "(20,) (20, 1)\n"
          ],
          "name": "stdout"
        },
        {
          "output_type": "execute_result",
          "data": {
            "text/plain": [
              "[<matplotlib.lines.Line2D at 0x7ff140500390>]"
            ]
          },
          "metadata": {
            "tags": []
          },
          "execution_count": 346
        },
        {
          "output_type": "display_data",
          "data": {
            "image/png": "[encoded data removed]",
            "text/plain": [
              "<Figure size 432x288 with 1 Axes>"
            ]
          },
          "metadata": {
            "tags": [],
            "needs_background": "light"
          }
        }
      ]
    },
    {
      "cell_type": "code",
      "metadata": {
        "colab": {
          "base_uri": "https://localhost:8080/"
        },
        "id": "_LvBBwGKaPCo",
        "outputId": "f0d96e1a-8112-414e-f870-23a31bc60335"
      },
      "source": [
        "model.predict(2)"
      ],
      "execution_count": 347,
      "outputs": [
        {
          "output_type": "execute_result",
          "data": {
            "text/plain": [
              "array([2.59897831])"
            ]
          },
          "metadata": {
            "tags": []
          },
          "execution_count": 347
        }
      ]
    },
    {
      "cell_type": "code",
      "metadata": {
        "id": "BpiuW3yLoabr"
      },
      "source": [
        ""
      ],
      "execution_count": null,
      "outputs": []
    }
  ]
}